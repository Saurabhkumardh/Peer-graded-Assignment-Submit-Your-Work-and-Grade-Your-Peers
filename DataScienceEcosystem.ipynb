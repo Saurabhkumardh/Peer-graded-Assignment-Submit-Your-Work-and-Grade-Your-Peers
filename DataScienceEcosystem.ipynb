{
 "cells": [
  {
   "cell_type": "markdown",
   "id": "0e2368c5",
   "metadata": {},
   "source": [
    "Data Science Tools and Ecosystems"
   ]
  },
  {
   "cell_type": "markdown",
   "id": "f7c95002",
   "metadata": {},
   "source": [
    "In this notebook, Data Science Tools and Ecosystem are summarized\n"
   ]
  },
  {
   "cell_type": "markdown",
   "id": "d5cff72b",
   "metadata": {},
   "source": [
    "objective:\n",
    "    1.List popular languages for Data Science.\n",
    "    2.list of popular libraries for data science\n",
    "    3.list of envirment varible for data science\n",
    "    4.list of data manegment sytem for data science"
   ]
  },
  {
   "cell_type": "markdown",
   "id": "1f63e63a",
   "metadata": {},
   "source": [
    "Some of the popular languages that Data Scientists use are:\n",
    "    1.python\n",
    "    2.r\n",
    "    3.matlab\n",
    "    4.scala\n",
    "    5.julia"
   ]
  },
  {
   "cell_type": "markdown",
   "id": "4bb5ba4f",
   "metadata": {},
   "source": [
    "Some of the commonly used libraries used by Data Scientists include:\n",
    "    1.panda\n",
    "    2.ggplot\n",
    "    3.numpy\n",
    "    4.matplotlib\n",
    "    5.sciketlearn\n"
   ]
  },
  {
   "cell_type": "markdown",
   "id": "a2ac06c1",
   "metadata": {},
   "source": [
    "# Data Science Tools"
   ]
  },
  {
   "cell_type": "markdown",
   "id": "fb25486c",
   "metadata": {},
   "source": [
    "1.jupyternotebook\n",
    "2.Rstudio\n",
    "3.Apache Zeppelin"
   ]
  },
  {
   "cell_type": "markdown",
   "id": "6837b025",
   "metadata": {},
   "source": [
    "# Below are a few examples of evaluating arithmetic expressions in Python\n"
   ]
  },
  {
   "cell_type": "code",
   "execution_count": 1,
   "id": "61ab5fd0",
   "metadata": {},
   "outputs": [
    {
     "data": {
      "text/plain": [
       "12"
      ]
     },
     "execution_count": 1,
     "metadata": {},
     "output_type": "execute_result"
    }
   ],
   "source": [
    "4+8\n"
   ]
  },
  {
   "cell_type": "code",
   "execution_count": 2,
   "id": "e6d775ec",
   "metadata": {},
   "outputs": [
    {
     "data": {
      "text/plain": [
       "4005"
      ]
     },
     "execution_count": 2,
     "metadata": {},
     "output_type": "execute_result"
    }
   ],
   "source": [
    "89*45\n"
   ]
  },
  {
   "cell_type": "code",
   "execution_count": 3,
   "id": "1c87d6ae",
   "metadata": {},
   "outputs": [
    {
     "data": {
      "text/plain": [
       "66"
      ]
     },
     "execution_count": 3,
     "metadata": {},
     "output_type": "execute_result"
    }
   ],
   "source": [
    "89-23"
   ]
  },
  {
   "cell_type": "code",
   "execution_count": 4,
   "id": "b1fab515",
   "metadata": {},
   "outputs": [
    {
     "data": {
      "text/plain": [
       "3.0"
      ]
     },
     "execution_count": 4,
     "metadata": {},
     "output_type": "execute_result"
    }
   ],
   "source": [
    "45/15"
   ]
  },
  {
   "cell_type": "markdown",
   "id": "d42b582a",
   "metadata": {},
   "source": [
    "This a simple arithmetic expression to mutiply then add integers"
   ]
  },
  {
   "cell_type": "code",
   "execution_count": 5,
   "id": "1af2639e",
   "metadata": {},
   "outputs": [
    {
     "data": {
      "text/plain": [
       "1960"
      ]
     },
     "execution_count": 5,
     "metadata": {},
     "output_type": "execute_result"
    }
   ],
   "source": [
    "(56*34)+56"
   ]
  },
  {
   "cell_type": "code",
   "execution_count": 6,
   "id": "2bb01deb",
   "metadata": {},
   "outputs": [
    {
     "data": {
      "text/plain": [
       "17"
      ]
     },
     "execution_count": 6,
     "metadata": {},
     "output_type": "execute_result"
    }
   ],
   "source": [
    "(3*4)+5"
   ]
  },
  {
   "cell_type": "markdown",
   "id": "06ed6304",
   "metadata": {},
   "source": [
    "This will convert 200 minutes to hours by diving by 60"
   ]
  },
  {
   "cell_type": "code",
   "execution_count": 7,
   "id": "484d553c",
   "metadata": {},
   "outputs": [
    {
     "name": "stdout",
     "output_type": "stream",
     "text": [
      "Enter Minutes :--> 200\n",
      "Hour : Minute :-->  3  :  20\n"
     ]
    }
   ],
   "source": [
    "# Python Program to Convert Minute to Hour\n",
    "min = int(input(\"Enter Minutes :--> \"))\n",
    "print(\"Hour : Minute :--> \", int(min/60), \" : \", min % 60)\n"
   ]
  },
  {
   "cell_type": "markdown",
   "id": "c4f29020",
   "metadata": {},
   "source": [
    "# AUTHOR"
   ]
  },
  {
   "cell_type": "markdown",
   "id": "2505e686",
   "metadata": {},
   "source": [
    "1.LAKSHMI HOLLA\n",
    "2.NIVEDITHA PANDITH"
   ]
  },
  {
   "cell_type": "code",
   "execution_count": null,
   "id": "b1241b93",
   "metadata": {},
   "outputs": [],
   "source": []
  }
 ],
 "metadata": {
  "kernelspec": {
   "display_name": "Python 3 (ipykernel)",
   "language": "python",
   "name": "python3"
  },
  "language_info": {
   "codemirror_mode": {
    "name": "ipython",
    "version": 3
   },
   "file_extension": ".py",
   "mimetype": "text/x-python",
   "name": "python",
   "nbconvert_exporter": "python",
   "pygments_lexer": "ipython3",
   "version": "3.10.7"
  }
 },
 "nbformat": 4,
 "nbformat_minor": 5
}
